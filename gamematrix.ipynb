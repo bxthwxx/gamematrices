{
 "cells": [
  {
   "cell_type": "code",
   "execution_count": 2,
   "id": "3b443d4c-a556-488a-b56d-b564daa8ad5d",
   "metadata": {},
   "outputs": [],
   "source": [
    "import numpy as np\n",
    "import math\n",
    "import matplotlib.pyplot as plt"
   ]
  },
  {
   "cell_type": "code",
   "execution_count": 3,
   "id": "d0e9b373-357b-4918-a173-3b27ecc30a7c",
   "metadata": {},
   "outputs": [
    {
     "name": "stdout",
     "output_type": "stream",
     "text": [
      "252\n",
      "None\n"
     ]
    }
   ],
   "source": [
    "#generating matrices that only have 1s and 0s as entries and flitering them to find game matrices\n",
    "def generateAllnnMatrices(n):\n",
    "    det = []\n",
    "    onematrix = np.array([[1,1,1],[1,1,1],[1,1,1]])\n",
    "    l = 0\n",
    "    matrix = np.array([[0,0,0],[0,0,0],[0,0,0]])\n",
    "    while np.array_equal(onematrix, matrix) == False:\n",
    "        #calculating new matrix\n",
    "        matrix[0][0] = matrix[0][0] + 1\n",
    "        #binary operating\n",
    "        for i in range(3):\n",
    "            for j in range(3):\n",
    "                if matrix[i][j] == 2:\n",
    "                    if j == 2:\n",
    "                        matrix[i+1][0] += 1\n",
    "                        matrix[i][j] = 0\n",
    "                    else: \n",
    "                        matrix[i][j+1] += 1\n",
    "                        matrix[i][j] = 0\n",
    "        #print(matrix)\n",
    "        #if it has i, j equal then add to list\n",
    "        k = 0\n",
    "        for i in range(3):\n",
    "            for j in range(3):\n",
    "                if matrix[i][j] == 1:\n",
    "                    #determinant added to list\n",
    "                    det.append(np.linalg.det(matrix))\n",
    "                    k += 1\n",
    "        if k == 4 or k == 5:\n",
    "            l += 1   \n",
    "    print(l)\n",
    "    #print(det)\n",
    "    \n",
    "#menu\n",
    "\n",
    "det = generateAllnnMatrices(3)"
   ]
  },
  {
   "cell_type": "code",
   "execution_count": 6,
   "id": "3c625eab-d3f4-4af5-9e80-af31367dc1d7",
   "metadata": {},
   "outputs": [
    {
     "name": "stdout",
     "output_type": "stream",
     "text": [
      "252\n"
     ]
    },
    {
     "data": {
      "image/png": "[encoded data removed]",
      "text/plain": [
       "<Figure size 432x288 with 1 Axes>"
      ]
     },
     "metadata": {
      "needs_background": "light"
     },
     "output_type": "display_data"
    }
   ],
   "source": [
    "#generating matrices only for n=3 and histogram\n",
    "def generateAllnnMatrices(n):\n",
    "    det = []\n",
    "    onematrix = np.array([[1,1,1],[1,1,1],[1,1,1]])\n",
    "    l = 0\n",
    "    matrix = np.array([[0,0,0],[0,0,0],[0,0,0]])\n",
    "    while np.array_equal(onematrix, matrix) == False:\n",
    "        #calculating new matrix\n",
    "        matrix[0][0] = matrix[0][0] + 1\n",
    "        #binary operating\n",
    "        for i in range(3):\n",
    "            for j in range(3):\n",
    "                if matrix[i][j] == 2:\n",
    "                    if j == 2:\n",
    "                        matrix[i+1][0] += 1\n",
    "                        matrix[i][j] = 0\n",
    "                    else: \n",
    "                        matrix[i][j+1] += 1\n",
    "                        matrix[i][j] = 0\n",
    "        #print(matrix)\n",
    "        #if it has i, j equal then add to list\n",
    "        k = 0\n",
    "        for i in range(3):\n",
    "            for j in range(3):\n",
    "                if matrix[i][j] == 1:\n",
    "                    #determinant added to list\n",
    "                    det.append(np.linalg.det(matrix)) #The incorrect step that produced the wrong histogram\n",
    "                    k += 1\n",
    "        if k == 4 or k == 5:\n",
    "            l += 1   \n",
    "    print(l)\n",
    "    return det\n",
    "\n",
    "    \n",
    "#menu\n",
    "det = generateAllnnMatrices(3)\n",
    "\n",
    "#Produce histogram for the determinants of n=3\n",
    "Max = max(det)\n",
    "Min = min(det)\n",
    "bins = np.arange(Min, Max+2) - 0.5\n",
    "plt.hist(det, bins, density = True, rwidth = 0.8)\n",
    "plt.grid('on')\n",
    "plt.xlabel(\"Possible determinants of 3x3 matrices with entries only 0 or 1\")\n",
    "plt.ylabel(\"Probability Density\")\n",
    "plt.show()"
   ]
  },
  {
   "cell_type": "code",
   "execution_count": 7,
   "id": "6254b89b-1052-479b-8cc6-31d9fbe7228b",
   "metadata": {},
   "outputs": [
    {
     "name": "stdout",
     "output_type": "stream",
     "text": [
      "[[1. 1.]\n",
      " [0. 0.]]\n",
      "[[1. 0.]\n",
      " [1. 0.]]\n",
      "[[0. 1.]\n",
      " [1. 0.]]\n",
      "[[1. 0.]\n",
      " [0. 1.]]\n",
      "[[0. 1.]\n",
      " [0. 1.]]\n",
      "[[0. 0.]\n",
      " [1. 1.]]\n",
      "6\n",
      "[0.0, 0.0, -1.0, 1.0, 0.0, 0.0]\n"
     ]
    },
    {
     "data": {
      "image/png": "[encoded data removed]",
      "text/plain": [
       "<Figure size 432x288 with 1 Axes>"
      ]
     },
     "metadata": {
      "needs_background": "light"
     },
     "output_type": "display_data"
    }
   ],
   "source": [
    "#generalising for nxn matrices and histogram with n=2\n",
    "def generateAllnnMatrices(n):\n",
    "    det = []\n",
    "    onematrix = np.ones((n,n))\n",
    "    l = 0\n",
    "    matrix = np.zeros((n,n))\n",
    "    while np.array_equal(onematrix, matrix) == False:\n",
    "        #calculating new matrix that only has 0's and 1's\n",
    "        matrix[0][0] = matrix[0][0] + 1\n",
    "        #binary operating\n",
    "        for i in range(n):\n",
    "            for j in range(n):\n",
    "                if matrix[i][j] == 2:\n",
    "                    if j == (n-1):\n",
    "                        matrix[i+1][0] += 1\n",
    "                        matrix[i][j] = 0\n",
    "                    else: \n",
    "                        matrix[i][j+1] += 1\n",
    "                        matrix[i][j] = 0\n",
    "        #print(matrix)\n",
    "        #if it has 1's, 0's equal then add to list\n",
    "        #k is counting number of 1's\n",
    "        k = 0\n",
    "        for i in range(n):\n",
    "            for j in range(n):\n",
    "                if matrix[i][j] == 1:\n",
    "                    k += 1\n",
    "        #determinant added to list\n",
    "        #det.append(np.linalg.det(matrix))\n",
    "        if n*n % 2 == 0:\n",
    "            if k == (n*n)/2:\n",
    "                det.append(np.linalg.det(matrix))\n",
    "                print(matrix)\n",
    "                l += 1\n",
    "        else:\n",
    "            if k == (n*n-1)/2  or k == (n*n+1)/2:\n",
    "                l += 1   \n",
    "    print(l)\n",
    "    #print(k)\n",
    "    return det\n",
    "    \n",
    "#menu\n",
    "det = generateAllnnMatrices(2)\n",
    "print(det)\n",
    "#probability density histogram for n =2 \n",
    "\n",
    "Max = max(det)\n",
    "Min = min(det)\n",
    "bins = np.arange(Min, Max+2) - 0.5\n",
    "plt.hist(det, bins, density = True, rwidth = 0.8)\n",
    "plt.grid('on')\n",
    "plt.xlabel(\"Possible determinants of 2x2 matrices with entries only 0 or 1\")\n",
    "plt.ylabel(\"Probability density\")\n",
    "plt.show()"
   ]
  },
  {
   "cell_type": "code",
   "execution_count": 33,
   "id": "17e7a81e-e5ff-4ab9-a6c7-9f79f7d4d0e0",
   "metadata": {},
   "outputs": [
    {
     "name": "stdout",
     "output_type": "stream",
     "text": [
      "number of det =  6\n",
      "4\n",
      "number of det =  252\n",
      "144\n",
      "number of det =  12870\n",
      "7542\n",
      "zeros for each are:  [4, 144, 7542]\n"
     ]
    }
   ],
   "source": [
    "#looking at number of zeros for each n to double check results\n",
    "def generateAllnnMatrices(n):\n",
    "    det = []\n",
    "    onematrix = np.ones((n,n))\n",
    "    l = 0\n",
    "    matrix = np.zeros((n,n))\n",
    "    while np.array_equal(onematrix, matrix) == False:\n",
    "        #calculating new matrix that only has 0's and 1's\n",
    "        matrix[0][0] = matrix[0][0] + 1\n",
    "        #binary operating\n",
    "        for i in range(n):\n",
    "            for j in range(n):\n",
    "                if matrix[i][j] == 2:\n",
    "                    if j == (n-1):\n",
    "                        matrix[i+1][0] += 1\n",
    "                        matrix[i][j] = 0\n",
    "                    else: \n",
    "                        matrix[i][j+1] += 1\n",
    "                        matrix[i][j] = 0\n",
    "        #print(matrix)\n",
    "        #if it has 1's, 0's equal then add to list\n",
    "        #k is counting number of 1's\n",
    "        k = 0\n",
    "        for i in range(n):\n",
    "            for j in range(n):\n",
    "                if matrix[i][j] == 1:\n",
    "                    k += 1\n",
    "        #determinant added to list\n",
    "        #det.append(np.linalg.det(matrix))\n",
    "        if n*n % 2 == 0:\n",
    "            if k == (n*n)/2:\n",
    "                det.append(np.linalg.det(matrix))\n",
    "                #print(matrix) #showing the matrices that are produced in the game \n",
    "                l += 1\n",
    "        else:\n",
    "            if k == (n*n-1)/2  or k == (n*n+1)/2:\n",
    "                det.append(np.linalg.det(matrix))\n",
    "                l += 1   \n",
    "    print(\"number of det = \", l) #How many determinants are produced\n",
    "    #print(k)\n",
    "    return det\n",
    "    \n",
    "    \n",
    "n = 10\n",
    "zeros = []\n",
    "for i in range(2, 5):\n",
    "    current = generateAllnnMatrices(i) #List of determinants for game matrices\n",
    "    k = 0 #counter for number of zeros\n",
    "    for j in range(len(current)): #Going through determinants to find the zeros\n",
    "        if current[j] == 0:\n",
    "            k += 1\n",
    "    zeros.append(k)\n",
    "    print(k)\n",
    "    \n",
    "print(\"zeros for each are: \", zeros)"
   ]
  },
  {
   "cell_type": "code",
   "execution_count": null,
   "id": "57e63da3-bcef-44d8-b80b-5151e7b95e66",
   "metadata": {},
   "outputs": [
    {
     "name": "stdout",
     "output_type": "stream",
     "text": [
      "12870\n"
     ]
    },
    {
     "data": {
      "image/png": "[encoded data removed]",
      "text/plain": [
       "<Figure size 432x288 with 1 Axes>"
      ]
     },
     "metadata": {
      "needs_background": "light"
     },
     "output_type": "display_data"
    }
   ],
   "source": [
    "#generalising for nxn matrices and histogram with n=4\n",
    "def generateAllnnMatrices(n):\n",
    "    det = []\n",
    "    onematrix = np.ones((n,n))\n",
    "    l = 0\n",
    "    matrix = np.zeros((n,n))\n",
    "    while np.array_equal(onematrix, matrix) == False:\n",
    "        #calculating new matrix that only has 0's and 1's\n",
    "        matrix[0][0] = matrix[0][0] + 1\n",
    "        #binary operating\n",
    "        for i in range(n):\n",
    "            for j in range(n):\n",
    "                if matrix[i][j] == 2:\n",
    "                    if j == (n-1):\n",
    "                        matrix[i+1][0] += 1\n",
    "                        matrix[i][j] = 0\n",
    "                    else: \n",
    "                        matrix[i][j+1] += 1\n",
    "                        matrix[i][j] = 0\n",
    "        #print(matrix)\n",
    "        #if it has 1's, 0's equal then add to list\n",
    "        #k is counting number of 1's\n",
    "        k = 0\n",
    "        for i in range(n):\n",
    "            for j in range(n):\n",
    "                if matrix[i][j] == 1:\n",
    "                    k += 1\n",
    "        #determinant added to list\n",
    "        #det.append(np.linalg.det(matrix))\n",
    "        if n*n % 2 == 0:\n",
    "            if k == (n*n)/2:\n",
    "                det.append(np.linalg.det(matrix))\n",
    "                #print(matrix)\n",
    "                l += 1\n",
    "        else:\n",
    "            if k == (n*n-1)/2  or k == (n*n+1)/2:\n",
    "                det.append(np.linalg.det(matrix))\n",
    "                l += 1   \n",
    "    print(l)\n",
    "    #print(k)\n",
    "    return det\n",
    "    \n",
    "#menu\n",
    "det = generateAllnnMatrices(4)\n",
    "print(det)\n",
    "#probability density histogram for n =2 \n",
    "\n",
    "Max = max(det)\n",
    "Min = min(det)\n",
    "bins = np.arange(Min, Max+2) - 0.5\n",
    "plt.hist(det, bins, density = True, rwidth = 0.8)\n",
    "plt.grid('on')\n",
    "plt.xlabel(\"Possible determinants of 4x4 matrices with entries only 0 or 1\")\n",
    "plt.ylabel(\"Probability density\")\n",
    "plt.show()"
   ]
  },
  {
   "cell_type": "code",
   "execution_count": 25,
   "id": "9f75a25b-3dd7-4ef3-9eca-750bb7729a08",
   "metadata": {},
   "outputs": [
    {
     "name": "stdout",
     "output_type": "stream",
     "text": [
      "252\n"
     ]
    },
    {
     "data": {
      "image/png": "[encoded data removed]",
      "text/plain": [
       "<Figure size 432x288 with 1 Axes>"
      ]
     },
     "metadata": {
      "needs_background": "light"
     },
     "output_type": "display_data"
    }
   ],
   "source": [
    "#corrected histogram for n=3 and for only five 1s\n",
    "def generateAllnnMatrices(n):\n",
    "    det = []\n",
    "    onematrix = np.ones((n,n))\n",
    "    l = 0\n",
    "    matrix = np.zeros((n,n))\n",
    "    while np.array_equal(onematrix, matrix) == False:\n",
    "        #calculating new matrix that only has 0's and 1's\n",
    "        matrix[0][0] = matrix[0][0] + 1\n",
    "        #binary operating\n",
    "        for i in range(n):\n",
    "            for j in range(n):\n",
    "                if matrix[i][j] == 2:\n",
    "                    if j == (n-1):\n",
    "                        matrix[i+1][0] += 1\n",
    "                        matrix[i][j] = 0\n",
    "                    else: \n",
    "                        matrix[i][j+1] += 1\n",
    "                        matrix[i][j] = 0\n",
    "        #print(matrix)\n",
    "        #if it has 1's, 0's equal then add to list\n",
    "        #k is counting number of 1's\n",
    "        k = 0\n",
    "        for i in range(n):\n",
    "            for j in range(n):\n",
    "                if matrix[i][j] == 1:\n",
    "                    k += 1\n",
    "        #determinant added to list\n",
    "        #det.append(np.linalg.det(matrix))\n",
    "        if n*n % 2 == 0:\n",
    "            if k == (n*n)/2:\n",
    "                det.append(np.linalg.det(matrix))\n",
    "                #print(matrix)\n",
    "                l += 1\n",
    "        else:\n",
    "            if k == (n*n - 1)/2  or k == (n*n + 1)/2:\n",
    "                det.append(np.linalg.det(matrix))\n",
    "                l += 1   \n",
    "    print(l)\n",
    "    #print(k)\n",
    "    return det\n",
    "    \n",
    "#menu\n",
    "det = generateAllnnMatrices(3)\n",
    "#print(det)\n",
    "#probability density histogram for n = 3 \n",
    "\n",
    "Max = max(det)\n",
    "Min = min(det)\n",
    "bins = np.arange(Min, Max+2) - 0.5\n",
    "plt.hist(det, bins, density = True, rwidth = 0.8)\n",
    "plt.grid('on')\n",
    "plt.xlabel(\"Possible determinants of 3x3 matrices with entries only 0 or 1\")\n",
    "plt.ylabel(\"Probability density\")\n",
    "plt.show()"
   ]
  },
  {
   "cell_type": "code",
   "execution_count": 31,
   "id": "d10ef43b-775f-49ef-84dd-42efbb60cc5a",
   "metadata": {},
   "outputs": [
    {
     "name": "stdout",
     "output_type": "stream",
     "text": [
      "126\n"
     ]
    },
    {
     "data": {
      "image/png": "[encoded data removed]",
      "text/plain": [
       "<Figure size 432x288 with 1 Axes>"
      ]
     },
     "metadata": {
      "needs_background": "light"
     },
     "output_type": "display_data"
    }
   ],
   "source": [
    "#Histogram of n=3 with only four 1's\n",
    "def generateAllnnMatrices(n): #edited from original\n",
    "    det = []\n",
    "    onematrix = np.ones((n,n))\n",
    "    l = 0\n",
    "    matrix = np.zeros((n,n))\n",
    "    while np.array_equal(onematrix, matrix) == False:\n",
    "        #calculating new matrix that only has 0's and 1's\n",
    "        matrix[0][0] = matrix[0][0] + 1\n",
    "        #binary operating\n",
    "        for i in range(n):\n",
    "            for j in range(n):\n",
    "                if matrix[i][j] == 2:\n",
    "                    if j == (n-1):\n",
    "                        matrix[i+1][0] += 1\n",
    "                        matrix[i][j] = 0\n",
    "                    else: \n",
    "                        matrix[i][j+1] += 1\n",
    "                        matrix[i][j] = 0\n",
    "        #print(matrix)\n",
    "        #if it has 1's, 0's equal then add to list\n",
    "        #k is counting number of 1's\n",
    "        k = 0\n",
    "        for i in range(n):\n",
    "            for j in range(n):\n",
    "                if matrix[i][j] == 1:\n",
    "                    k += 1\n",
    "        #determinant added to list\n",
    "        #det.append(np.linalg.det(matrix))\n",
    "        if n*n % 2 == 0:\n",
    "            if k == (n*n)/2:\n",
    "                det.append(np.linalg.det(matrix))\n",
    "                #print(matrix)\n",
    "                l += 1\n",
    "        else:\n",
    "            if k == (n*n+1)/2:\n",
    "                det.append(np.linalg.det(matrix))\n",
    "                l += 1   \n",
    "    print(l)\n",
    "    #print(k)\n",
    "    return det\n",
    "\n",
    "\n",
    "def checkNumberOfMatrices(n):\n",
    "    if n % 2 == 0:\n",
    "        return math.factorial(n)/(math.factorial(n/2) * math.factorial(n/2))\n",
    "    if n % 2 == 1:\n",
    "        return math.factorial(n)/(math.factorial((n-1)/2) * math.factorial((n+1)/2))\n",
    "    \n",
    "#menu\n",
    "det = generateAllnnMatrices(3)\n",
    "#print(det)\n",
    "#probability density histogram for n =2 \n",
    "\n",
    "Max = max(det)\n",
    "Min = min(det)\n",
    "bins = np.arange(Min, Max+2) - 0.5\n",
    "plt.hist(det, bins, density = True, rwidth = 0.8)\n",
    "plt.grid('on')\n",
    "plt.xlabel(\"Possible determinants of 3x3 matrices\")\n",
    "plt.ylabel(\"Probability density\")\n",
    "plt.show()"
   ]
  },
  {
   "cell_type": "code",
   "execution_count": null,
   "id": "0617ff30-a759-4381-8339-3ca5165438a8",
   "metadata": {},
   "outputs": [],
   "source": []
  }
 ],
 "metadata": {
  "kernelspec": {
   "display_name": "Python 3 (ipykernel)",
   "language": "python",
   "name": "python3"
  },
  "language_info": {
   "codemirror_mode": {
    "name": "ipython",
    "version": 3
   },
   "file_extension": ".py",
   "mimetype": "text/x-python",
   "name": "python",
   "nbconvert_exporter": "python",
   "pygments_lexer": "ipython3",
   "version": "3.9.7"
  }
 },
 "nbformat": 4,
 "nbformat_minor": 5
}
